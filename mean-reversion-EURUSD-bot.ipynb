{
 "cells": [
  {
   "cell_type": "markdown",
   "metadata": {},
   "source": [
    "## Mean Reversion EURUSD Bot"
   ]
  },
  {
   "cell_type": "markdown",
   "metadata": {},
   "source": [
    "### Imports and Data Download"
   ]
  },
  {
   "cell_type": "code",
   "execution_count": 1,
   "metadata": {},
   "outputs": [
    {
     "ename": "ImportError",
     "evalue": "cannot import name 'access_token' from 'config' (c:\\Users\\Arjun\\miniconda3\\lib\\site-packages\\config\\__init__.py)",
     "output_type": "error",
     "traceback": [
      "\u001b[1;31m---------------------------------------------------------------------------\u001b[0m",
      "\u001b[1;31mImportError\u001b[0m                               Traceback (most recent call last)",
      "Cell \u001b[1;32mIn[1], line 10\u001b[0m\n\u001b[0;32m      8\u001b[0m \u001b[38;5;28;01mfrom\u001b[39;00m \u001b[38;5;21;01moanda_candles\u001b[39;00m \u001b[38;5;28;01mimport\u001b[39;00m Pair, Gran, CandleCollector, CandleClient\n\u001b[0;32m      9\u001b[0m \u001b[38;5;28;01mfrom\u001b[39;00m \u001b[38;5;21;01moandapyV20\u001b[39;00m\u001b[38;5;21;01m.\u001b[39;00m\u001b[38;5;21;01mcontrib\u001b[39;00m\u001b[38;5;21;01m.\u001b[39;00m\u001b[38;5;21;01mrequests\u001b[39;00m \u001b[38;5;28;01mimport\u001b[39;00m TakeProfitDetails, StopLossDetails\n\u001b[1;32m---> 10\u001b[0m \u001b[38;5;28;01mfrom\u001b[39;00m \u001b[38;5;21;01mconfig\u001b[39;00m \u001b[38;5;28;01mimport\u001b[39;00m access_token, accountID\n\u001b[0;32m     12\u001b[0m data \u001b[38;5;241m=\u001b[39m yf\u001b[38;5;241m.\u001b[39mdownload(\u001b[38;5;124m'\u001b[39m\u001b[38;5;124mEURUSD=X\u001b[39m\u001b[38;5;124m'\u001b[39m, start\u001b[38;5;241m=\u001b[39m\u001b[38;5;124m'\u001b[39m\u001b[38;5;124m2000-01-01\u001b[39m\u001b[38;5;124m'\u001b[39m)\n\u001b[0;32m     13\u001b[0m data \u001b[38;5;241m=\u001b[39m data[[\u001b[38;5;124m'\u001b[39m\u001b[38;5;124mClose\u001b[39m\u001b[38;5;124m'\u001b[39m]]\n",
      "\u001b[1;31mImportError\u001b[0m: cannot import name 'access_token' from 'config' (c:\\Users\\Arjun\\miniconda3\\lib\\site-packages\\config\\__init__.py)"
     ]
    }
   ],
   "source": [
    "import pandas as pd\n",
    "import numpy as np\n",
    "import yfinance as yf\n",
    "from apscheduler.schedulers.blocking import BlockingScheduler\n",
    "from oandapyV20 import API\n",
    "import oandapyV20.endpoints.orders as orders\n",
    "from oandapyV20.contrib.requests import MarketOrderRequest\n",
    "from oanda_candles import Pair, Gran, CandleCollector, CandleClient\n",
    "from oandapyV20.contrib.requests import TakeProfitDetails, StopLossDetails\n",
    "from config import access_token, accountID\n",
    "\n",
    "data = yf.download('EURUSD=X', start='2000-01-01')\n",
    "data = data[['Close']]\n",
    "data = data.dropna()\n",
    "\n",
    "half_life = 263*4*24  # From mean-reversion-and-stationarity.ipynb"
   ]
  },
  {
   "cell_type": "markdown",
   "metadata": {},
   "source": [
    "### Calculate Strategy Parameters"
   ]
  },
  {
   "cell_type": "code",
   "execution_count": null,
   "metadata": {},
   "outputs": [],
   "source": [
    "data['MovingAvg'] = data['Close'].rolling(window=half_life).mean()\n",
    "data['MovingStd'] = data['Close'].rolling(window=half_life).std()\n",
    "data['Z'] = (data['Close'] - data['MovingAvg']) / data['MovingStd']\n",
    "data['Position'] = -data['Z']\n",
    "data['PnL'] = data['Position'].shift(1) * (data['Close'].diff())\n",
    "data['Cumulative PnL'] = data['PnL'].cumsum()"
   ]
  },
  {
   "cell_type": "markdown",
   "metadata": {},
   "source": [
    "### Trading Job"
   ]
  },
  {
   "cell_type": "code",
   "execution_count": null,
   "metadata": {},
   "outputs": [],
   "source": [
    "def get_candles(n):\n",
    "    client = CandleClient(access_token, real=False)\n",
    "    collector = client.get_collector(Pair.EUR_USD, Gran.M15)\n",
    "    candles = collector.grab(n)\n",
    "    return candles"
   ]
  },
  {
   "cell_type": "code",
   "execution_count": null,
   "metadata": {},
   "outputs": [],
   "source": [
    "def trading_job():\n",
    "    # Fetching latest price data\n",
    "    candles = get_candles(half_life) \n",
    "    dfstream = pd.DataFrame(columns=['Open', 'Close', 'High', \"Low\"])\n",
    "\n",
    "    # Parsing candle data for trading signals\n",
    "    for i, candle in enumerate(candles):\n",
    "        dfstream.loc[i] = [\n",
    "            float(candle.bid.o.value),  \n",
    "            float(candle.bid.c.value),\n",
    "            float(candle.bid.h.value),\n",
    "            float(candle.bid.l.value)\n",
    "        ]\n",
    "\n",
    "    # Calculate the rolling mean and standard deviation for the z-score\n",
    "    dfstream['MovingAvg'] = dfstream['Close'].rolling(window=half_life).mean()  \n",
    "    dfstream['MovingStd'] = dfstream['Close'].rolling(window=half_life).std()\n",
    "    dfstream['Z'] = (dfstream['Close'] - dfstream['MovingAvg']) / dfstream['MovingStd']\n",
    "\n",
    "    # Dropping the initial rows where the rolling window is not full\n",
    "    dfstream.dropna(inplace=True)\n",
    "\n",
    "    # Generate signals based on the z-score\n",
    "    dfstream['Signal'] = 0  # Initialize all signals to 0\n",
    "    dfstream.loc[dfstream['Z'] > 1, 'Signal'] = 1   # Sell signal\n",
    "    dfstream.loc[dfstream['Z'] < -1, 'Signal'] = 2  # Buy signal\n",
    "\n",
    "    last_signal = dfstream['Signal'].iloc[-1]\n",
    "\n",
    "    client = API(access_token)\n",
    "\n",
    "    SLTPRatio = 2\n",
    "    previous_candleR = abs(dfstream['Open'].iloc[-2] - dfstream['Close'].iloc[-2])\n",
    "\n",
    "    SLBuy = float(str(candle.bid.o))-previous_candleR\n",
    "    SLSell = float(str(candle.bid.o))+previous_candleR\n",
    "\n",
    "    TPBuy = float(str(candle.bid.o))+previous_candleR*SLTPRatio\n",
    "    TPSell = float(str(candle.bid.o))-previous_candleR*SLTPRatio\n",
    "\n",
    "    print(dfstream.iloc[:-1, :])\n",
    "    print(TPBuy, \" \", SLBuy, \" \", TPSell, \" \", SLSell)\n",
    "\n",
    "    # Sell\n",
    "    if last_signal == 1:\n",
    "        mo = MarketOrderRequest(instrument=\"EUR_USD\", units=-10000, takeProfitOnFill=TakeProfitDetails(price=TPSell).data, stopLossOnFill=StopLossDetails(price=SLSell).data)\n",
    "        r = orders.OrderCreate(accountID, data=mo.data)\n",
    "        rv = client.request(r)\n",
    "        print(rv)\n",
    "\n",
    "    # Buy\n",
    "    elif last_signal == 2:\n",
    "        mo = MarketOrderRequest(instrument=\"EUR_USD\", units=10000, takeProfitOnFill=TakeProfitDetails(price=TPBuy).data, stopLossOnFill=StopLossDetails(price=SLBuy).data)\n",
    "        r = orders.OrderCreate(accountID, data=mo.data)\n",
    "        rv = client.request(r)\n",
    "        print(rv)"
   ]
  },
  {
   "cell_type": "markdown",
   "metadata": {},
   "source": [
    "### Executing Trades Manually"
   ]
  },
  {
   "cell_type": "code",
   "execution_count": null,
   "metadata": {},
   "outputs": [],
   "source": [
    "# MANUAL\n",
    "trading_job()\n",
    "\n",
    "# SCHEDULED\n",
    "#scheduler = BlockingScheduler()\n",
    "#scheduler.add_job(trading_job, 'cron', day_of_week='mon-sun', hour='00-23', minute='0,1,2,3,4,5,6,7,8,9,10,11,12,13,14,15,16,17,18,19,20,21,22,23,24,25,26,27,28,29,30,31,32,33,34,35,36,37,38,39,40,41,42,43,44,45,46,47,48,49,50,51,52,53,54,55,56,57,58,59', second='0,1,2,3,4,5,6,7,8,9,10,11,12,13,14,15,16,17,18,19,20,21,22,23,24,25,26,27,28,29,30,31,32,33,34,35,36,37,38,39,40,41,42,43,44,45,46,47,48,49,50,51,52,53,54,55,56,57,58,59', start_date='2023-09-26 01:00:00')\n",
    "#scheduler.start()"
   ]
  }
 ],
 "metadata": {
  "kernelspec": {
   "display_name": "Python 3",
   "language": "python",
   "name": "python3"
  },
  "language_info": {
   "codemirror_mode": {
    "name": "ipython",
    "version": 3
   },
   "file_extension": ".py",
   "mimetype": "text/x-python",
   "name": "python",
   "nbconvert_exporter": "python",
   "pygments_lexer": "ipython3",
   "version": "3.10.8"
  }
 },
 "nbformat": 4,
 "nbformat_minor": 2
}
